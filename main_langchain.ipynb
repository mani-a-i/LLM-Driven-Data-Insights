{
 "cells": [
  {
   "cell_type": "code",
   "execution_count": 45,
   "id": "7c5a66c5-e77d-4b6a-a015-eec12147c053",
   "metadata": {},
   "outputs": [],
   "source": [
    "import torch\n",
    "from transformers import AutoTokenizer, AutoModelForCausalLM,BitsAndBytesConfig,pipeline\n",
    "import os\n",
    "import pandas as pd\n",
    "from langchain.chains import ConversationChain\n",
    "\n",
    "from langchain.prompts import PromptTemplate\n",
    "from langchain_community.llms import HuggingFaceEndpoint\n",
    "from langchain.chains import LLMChain\n",
    "from langchain.memory import (\n",
    "    CombinedMemory,\n",
    "    ConversationBufferMemory,\n",
    "    ConversationSummaryMemory,\n",
    ")\n",
    "\n",
    "from langchain_community.llms.huggingface_pipeline import HuggingFacePipeline\n"
   ]
  },
  {
   "cell_type": "code",
   "execution_count": 46,
   "id": "2e7b8eea-0342-4ed6-914e-97c745909708",
   "metadata": {},
   "outputs": [
    {
     "data": {
      "text/html": [
       "<div>\n",
       "<style scoped>\n",
       "    .dataframe tbody tr th:only-of-type {\n",
       "        vertical-align: middle;\n",
       "    }\n",
       "\n",
       "    .dataframe tbody tr th {\n",
       "        vertical-align: top;\n",
       "    }\n",
       "\n",
       "    .dataframe thead th {\n",
       "        text-align: right;\n",
       "    }\n",
       "</style>\n",
       "<table border=\"1\" class=\"dataframe\">\n",
       "  <thead>\n",
       "    <tr style=\"text-align: right;\">\n",
       "      <th></th>\n",
       "      <th>rank</th>\n",
       "      <th>discipline</th>\n",
       "      <th>phd</th>\n",
       "      <th>service</th>\n",
       "      <th>sex</th>\n",
       "      <th>salary</th>\n",
       "    </tr>\n",
       "  </thead>\n",
       "  <tbody>\n",
       "    <tr>\n",
       "      <th>0</th>\n",
       "      <td>Prof</td>\n",
       "      <td>B</td>\n",
       "      <td>56</td>\n",
       "      <td>49</td>\n",
       "      <td>Male</td>\n",
       "      <td>186960</td>\n",
       "    </tr>\n",
       "    <tr>\n",
       "      <th>1</th>\n",
       "      <td>Prof</td>\n",
       "      <td>A</td>\n",
       "      <td>12</td>\n",
       "      <td>6</td>\n",
       "      <td>Male</td>\n",
       "      <td>93000</td>\n",
       "    </tr>\n",
       "    <tr>\n",
       "      <th>2</th>\n",
       "      <td>Prof</td>\n",
       "      <td>A</td>\n",
       "      <td>23</td>\n",
       "      <td>20</td>\n",
       "      <td>Male</td>\n",
       "      <td>110515</td>\n",
       "    </tr>\n",
       "    <tr>\n",
       "      <th>3</th>\n",
       "      <td>Prof</td>\n",
       "      <td>A</td>\n",
       "      <td>40</td>\n",
       "      <td>31</td>\n",
       "      <td>Male</td>\n",
       "      <td>131205</td>\n",
       "    </tr>\n",
       "    <tr>\n",
       "      <th>4</th>\n",
       "      <td>Prof</td>\n",
       "      <td>B</td>\n",
       "      <td>20</td>\n",
       "      <td>18</td>\n",
       "      <td>Male</td>\n",
       "      <td>104800</td>\n",
       "    </tr>\n",
       "  </tbody>\n",
       "</table>\n",
       "</div>"
      ],
      "text/plain": [
       "   rank discipline  phd  service   sex  salary\n",
       "0  Prof          B   56       49  Male  186960\n",
       "1  Prof          A   12        6  Male   93000\n",
       "2  Prof          A   23       20  Male  110515\n",
       "3  Prof          A   40       31  Male  131205\n",
       "4  Prof          B   20       18  Male  104800"
      ]
     },
     "execution_count": 46,
     "metadata": {},
     "output_type": "execute_result"
    }
   ],
   "source": [
    "df = pd.read_csv(\"Salaries.csv\")\n",
    "df.head()"
   ]
  },
  {
   "cell_type": "code",
   "execution_count": 47,
   "id": "5e5ea6f9-74c3-4b5a-b29f-e03a9dbaccbd",
   "metadata": {},
   "outputs": [
    {
     "data": {
      "text/plain": [
       "'Salaries.csv'"
      ]
     },
     "execution_count": 47,
     "metadata": {},
     "output_type": "execute_result"
    }
   ],
   "source": [
    "df.name = 'Salaries.csv'\n",
    "df.name"
   ]
  },
  {
   "cell_type": "code",
   "execution_count": 70,
   "id": "3d435ecd-ea7b-4832-811f-cf3ecd3d0517",
   "metadata": {},
   "outputs": [
    {
     "name": "stdout",
     "output_type": "stream",
     "text": [
      "\u001b[1m\u001b[37mgpu-server         \u001b[m  Tue Feb 27 15:47:46 2024  \u001b[1m\u001b[30m495.29.05\u001b[m\n",
      "\u001b[36m[0]\u001b[m \u001b[34mQuadro RTX 5000 \u001b[m |\u001b[31m 39'C\u001b[m, \u001b[32m  0 %\u001b[m | \u001b[36m\u001b[1m\u001b[33m 6760\u001b[m / \u001b[33m16122\u001b[m MB | \u001b[1m\u001b[30muser\u001b[m(\u001b[33m6743M\u001b[m) \u001b[1m\u001b[30mgdm\u001b[m(\u001b[33m9M\u001b[m) \u001b[1m\u001b[30mgdm\u001b[m(\u001b[33m3M\u001b[m)\n"
     ]
    }
   ],
   "source": [
    "!gpustat"
   ]
  },
  {
   "cell_type": "code",
   "execution_count": 49,
   "id": "0046508f-ba98-43e7-9ee2-0ec8f2f4319d",
   "metadata": {},
   "outputs": [
    {
     "data": {
      "text/plain": [
       "device(type='cuda', index=0)"
      ]
     },
     "execution_count": 49,
     "metadata": {},
     "output_type": "execute_result"
    }
   ],
   "source": [
    "gpu_to_use = 0\n",
    "device = torch.device(f'cuda:{gpu_to_use}' if torch.cuda.is_available() else 'cpu')\n",
    "device"
   ]
  },
  {
   "cell_type": "code",
   "execution_count": 50,
   "id": "76a7e2d6-be02-453e-93cc-3f17a110f032",
   "metadata": {},
   "outputs": [
    {
     "name": "stderr",
     "output_type": "stream",
     "text": [
      "Special tokens have been added in the vocabulary, make sure the associated word embeddings are fine-tuned or trained.\n"
     ]
    }
   ],
   "source": [
    "tokenizer = AutoTokenizer.from_pretrained(\"deepseek-ai/deepseek-coder-7b-instruct-v1.5\",\n",
    "                                          load_in_4bit = True\n",
    "                                         )\n"
   ]
  },
  {
   "cell_type": "code",
   "execution_count": 51,
   "id": "245ab124-832a-45aa-b7b9-112a375c7c9c",
   "metadata": {},
   "outputs": [
    {
     "name": "stderr",
     "output_type": "stream",
     "text": [
      "The `load_in_4bit` and `load_in_8bit` arguments are deprecated and will be removed in the future versions. Please, pass a `BitsAndBytesConfig` object in `quantization_config` argument instead.\n",
      "`low_cpu_mem_usage` was None, now set to True since model is quantized.\n"
     ]
    },
    {
     "data": {
      "application/vnd.jupyter.widget-view+json": {
       "model_id": "c48645002937440192ea713872364af2",
       "version_major": 2,
       "version_minor": 0
      },
      "text/plain": [
       "Loading checkpoint shards:   0%|          | 0/3 [00:00<?, ?it/s]"
      ]
     },
     "metadata": {},
     "output_type": "display_data"
    }
   ],
   "source": [
    "model = AutoModelForCausalLM.from_pretrained(\"deepseek-ai/deepseek-coder-7b-instruct-v1.5\",\n",
    "                                             load_in_4bit = True)\n"
   ]
  },
  {
   "cell_type": "code",
   "execution_count": 52,
   "id": "498f7cc8-2a3b-4f3d-9ab8-dd461715ecf9",
   "metadata": {},
   "outputs": [],
   "source": [
    "pipe = pipeline(\"text-generation\", \n",
    "                model=model, \n",
    "                tokenizer=tokenizer,\n",
    "                top_k = 1,\n",
    "                do_sample = True,\n",
    "                temperature = 0.2,\n",
    "                max_new_tokens = 200,\n",
    "                eos_token_id = [10897,63,4686,10252],\n",
    "                \n",
    "               )\n",
    "llm = HuggingFacePipeline(pipeline=pipe)"
   ]
  },
  {
   "cell_type": "code",
   "execution_count": 3,
   "id": "62b9441c-a89a-4816-8ab7-4782dbd70a7a",
   "metadata": {},
   "outputs": [],
   "source": [
    "# print(llm.invoke(\"Hi\"))"
   ]
  },
  {
   "cell_type": "code",
   "execution_count": 73,
   "id": "af6daf74-3a84-4c91-8875-50eb208d7be8",
   "metadata": {},
   "outputs": [],
   "source": [
    "# prompt = \"\"\"You're a highly skilled Python coder known for your mastery in pandas, seaborn, matplotlib, plotly.\n",
    "# When it comes to visualizations, your expertise shines through, crafting aesthetically pleasing plots with captivating color schemes.\n",
    "\n",
    "# ### Rules:\n",
    "# 1) print values above the bars of bar plot.\n",
    "# 2) the output should be phrased with respect to question.\n",
    "# 3) Use seaborn or plotly along with matplotlib.\n",
    "# 4) do not print values above the bar if it gets too congested.\n",
    "# 5) only give the code without explanation and comments.\n",
    "# 6) Always import necessary libraries and load the dataset.\n",
    "# 7) Plot only when told.\n",
    "# 8) Show does not always means you have to plot \n",
    "#     # Follow the example below\n",
    "#     User: Show me columns of the dataset\n",
    "#     Assistant:\n",
    "#     import pandas as pd\n",
    "#     df = pd.read_csv(\"Dataset.csv\")\n",
    "#     print(df.columns)\n",
    "\n",
    "# # You should strictly follow the above rule\n",
    "\n",
    "# Here's the scoop on the dataset \"{dataset_name}\" boasting records featuring diverse columns:\n",
    "# {dataset_sample}\n",
    "\n",
    "# # Follow the example below\n",
    "# User: Give me salary distribution across all sex\n",
    "# Assistant: \n",
    "# import pandas as pd\n",
    "# df = pd.read_csv(\"Salaries.csv\")\n",
    "# salary_distribution = df.groupby('sex')['salary'].mean()\n",
    "# colors = ['skyblue', 'lightcoral']\n",
    "# salary_distribution.plot(kind='bar', color=colors)\n",
    "# plt.title('Salary Distribution Across Sexes')\n",
    "# plt.xlabel('Sex')\n",
    "# plt.ylabel('Average Salary')\n",
    "# plt.show()\n",
    "\n",
    "# # Assist user\n",
    "\n",
    "# User: {question}\n",
    "# Assistant:\n",
    "# ```python\n",
    "# \"\"\"\n",
    "\n",
    "# _DEFAULT_TEMPLATE = \"\"\"You're a highly skilled Python coder known for your mastery in pandas, seaborn, matplotlib, plotly.\n",
    "# When it comes to visualizations, your expertise shines through, crafting aesthetically pleasing plots with captivating color schemes.\n",
    "\n",
    "# # You should strictly follow the above rule\n",
    "\n",
    "# Here's the scoop on the dataset \"{dataset_name}\" boasting records featuring diverse columns:\n",
    "# {dataset_sample}\n",
    "\n",
    "\n",
    "# Past conversations:\n",
    "# {history}\n",
    "# # Assist user\n",
    "\n",
    "# User: {input}\n",
    "# Assistant:\n",
    "# ```python\n",
    "# \"\"\""
   ]
  },
  {
   "cell_type": "code",
   "execution_count": 55,
   "id": "1bbe9bb7-2710-48dd-9bc9-5995c0cee66b",
   "metadata": {},
   "outputs": [],
   "source": [
    "instruct_prompt =  \"\"\"You're a highly skilled Python coder known for your mastery in pandas, seaborn, matplotlib, plotly.\n",
    "When it comes to visualizations, your expertise shines through, crafting aesthetically pleasing plots with captivating color schemes.\n",
    "\n",
    "# You should strictly follow the above rule\n",
    "\n",
    "Here's the scoop on the dataset \"{dataset_name}\" boasting records featuring diverse columns\n",
    "{dataset_sample}\n",
    "\n",
    "\n",
    "\"\"\"\n",
    "\n",
    "\n",
    "input_prompt = \"\"\"\n",
    "Past conversations:\n",
    "{history}\n",
    "# Assist user\n",
    "\n",
    "User: {input}\n",
    "Assistant:\n",
    "```python\n",
    "\"\"\"\n",
    "\n"
   ]
  },
  {
   "cell_type": "code",
   "execution_count": 56,
   "id": "c367d057-9406-42bc-a867-25f50e50a7d9",
   "metadata": {},
   "outputs": [],
   "source": [
    "instruct_prompt = PromptTemplate.from_template(instruct_prompt).format(dataset_name=df.name,dataset_sample=df.head(5))\n"
   ]
  },
  {
   "cell_type": "code",
   "execution_count": 57,
   "id": "13fab55b-7208-4a1c-a766-400706bd20f6",
   "metadata": {},
   "outputs": [
    {
     "name": "stdout",
     "output_type": "stream",
     "text": [
      "You're a highly skilled Python coder known for your mastery in pandas, seaborn, matplotlib, plotly.\n",
      "When it comes to visualizations, your expertise shines through, crafting aesthetically pleasing plots with captivating color schemes.\n",
      "\n",
      "# You should strictly follow the above rule\n",
      "\n",
      "Here's the scoop on the dataset \"Salaries.csv\" boasting records featuring diverse columns:\n",
      "   rank discipline  phd  service   sex  salary\n",
      "0  Prof          B   56       49  Male  186960\n",
      "1  Prof          A   12        6  Male   93000\n",
      "2  Prof          A   23       20  Male  110515\n",
      "3  Prof          A   40       31  Male  131205\n",
      "4  Prof          B   20       18  Male  104800\n",
      "\n"
     ]
    }
   ],
   "source": [
    "print(instruct_prompt)"
   ]
  },
  {
   "cell_type": "code",
   "execution_count": 58,
   "id": "d5d4d9f2-8e74-44f8-bae9-b53d8d79e0fe",
   "metadata": {},
   "outputs": [
    {
     "name": "stdout",
     "output_type": "stream",
     "text": [
      "You're a highly skilled Python coder known for your mastery in pandas, seaborn, matplotlib, plotly.\n",
      "When it comes to visualizations, your expertise shines through, crafting aesthetically pleasing plots with captivating color schemes.\n",
      "\n",
      "# You should strictly follow the above rule\n",
      "\n",
      "Here's the scoop on the dataset \"Salaries.csv\" boasting records featuring diverse columns:\n",
      "   rank discipline  phd  service   sex  salary\n",
      "0  Prof          B   56       49  Male  186960\n",
      "1  Prof          A   12        6  Male   93000\n",
      "2  Prof          A   23       20  Male  110515\n",
      "3  Prof          A   40       31  Male  131205\n",
      "4  Prof          B   20       18  Male  104800\n",
      "\n",
      "Past conversations:\n",
      "{history}\n",
      "# Assist user\n",
      "\n",
      "User: {input}\n",
      "Assistant:\n",
      "```python\n",
      "\n"
     ]
    }
   ],
   "source": [
    "final_prompt = instruct_prompt + input_prompt\n",
    "print(final_prompt)"
   ]
  },
  {
   "cell_type": "code",
   "execution_count": 63,
   "id": "5b0e4804-a2f9-4db4-8e8d-013e00d92a69",
   "metadata": {},
   "outputs": [],
   "source": [
    "final_prompt = PromptTemplate(\n",
    "    input_variables=[\"history\", \"input\"],\n",
    "    template=instruct_prompt + input_prompt,\n",
    ")\n"
   ]
  },
  {
   "cell_type": "code",
   "execution_count": 65,
   "id": "ec75e1fe-06c8-4a62-bb97-d5752421323d",
   "metadata": {},
   "outputs": [
    {
     "name": "stdout",
     "output_type": "stream",
     "text": [
      "You're a highly skilled Python coder known for your mastery in pandas, seaborn, matplotlib, plotly.\n",
      "When it comes to visualizations, your expertise shines through, crafting aesthetically pleasing plots with captivating color schemes.\n",
      "\n",
      "# You should strictly follow the above rule\n",
      "\n",
      "Here's the scoop on the dataset \"Salaries.csv\" boasting records featuring diverse columns:\n",
      "   rank discipline  phd  service   sex  salary\n",
      "0  Prof          B   56       49  Male  186960\n",
      "1  Prof          A   12        6  Male   93000\n",
      "2  Prof          A   23       20  Male  110515\n",
      "3  Prof          A   40       31  Male  131205\n",
      "4  Prof          B   20       18  Male  104800\n",
      "\n",
      "Past conversations:\n",
      "{history}\n",
      "# Assist user\n",
      "\n",
      "User: {input}\n",
      "Assistant:\n",
      "```python\n",
      "\n"
     ]
    }
   ],
   "source": [
    "print(final_prompt.template)"
   ]
  },
  {
   "cell_type": "code",
   "execution_count": 59,
   "id": "75bb45de-ecf1-4517-af38-911593827b66",
   "metadata": {},
   "outputs": [],
   "source": [
    "\n",
    "# conv_memory_dname = ConversationBufferMemory(\n",
    "#     memory_key=\"dataset_name\", input_key=\"input\"\n",
    "# )\n",
    "\n",
    "# conv_memory_dsample = ConversationBufferMemory(\n",
    "#     memory_key=\"dataset_sample\", input_key=\"input\"\n",
    "# )\n",
    "# memory = CombinedMemory(memories=[conv_memory_dname, conv_memory_dsample])\n"
   ]
  },
  {
   "cell_type": "code",
   "execution_count": 66,
   "id": "dafb16c7-b59b-47a8-8e4e-5c52f598bd68",
   "metadata": {},
   "outputs": [],
   "source": [
    "memory = ConversationBufferMemory()"
   ]
  },
  {
   "cell_type": "code",
   "execution_count": 67,
   "id": "8d51b5fc-15ed-4e98-88dc-434cc81d882e",
   "metadata": {},
   "outputs": [],
   "source": [
    "conversation = ConversationChain(llm=llm, \n",
    "                                 verbose=True,\n",
    "                                 memory=memory,\n",
    "                                 prompt=final_prompt)\n",
    "\n"
   ]
  },
  {
   "cell_type": "code",
   "execution_count": 68,
   "id": "682f6608-da17-4aae-ba91-7ceaacb3ca59",
   "metadata": {},
   "outputs": [
    {
     "name": "stderr",
     "output_type": "stream",
     "text": [
      "/home/user/miniconda3/envs/mayur2/lib/python3.10/site-packages/langchain_core/_api/deprecation.py:117: LangChainDeprecationWarning: The function `run` was deprecated in LangChain 0.1.0 and will be removed in 0.2.0. Use invoke instead.\n",
      "  warn_deprecated(\n",
      "Setting `pad_token_id` to `eos_token_id`:10897 for open-end generation.\n",
      "/home/user/miniconda3/envs/mayur2/lib/python3.10/site-packages/bitsandbytes/nn/modules.py:226: UserWarning: Input type into Linear4bit is torch.float16, but bnb_4bit_compute_dtype=torch.float32 (default). This will lead to slow inference or training speed.\n",
      "  warnings.warn(f'Input type into Linear4bit is torch.float16, but bnb_4bit_compute_dtype=torch.float32 (default). This will lead to slow inference or training speed.')\n"
     ]
    },
    {
     "name": "stdout",
     "output_type": "stream",
     "text": [
      "\n",
      "\n",
      "\u001b[1m> Entering new ConversationChain chain...\u001b[0m\n",
      "Prompt after formatting:\n",
      "\u001b[32;1m\u001b[1;3mYou're a highly skilled Python coder known for your mastery in pandas, seaborn, matplotlib, plotly.\n",
      "When it comes to visualizations, your expertise shines through, crafting aesthetically pleasing plots with captivating color schemes.\n",
      "\n",
      "# You should strictly follow the above rule\n",
      "\n",
      "Here's the scoop on the dataset \"Salaries.csv\" boasting records featuring diverse columns:\n",
      "   rank discipline  phd  service   sex  salary\n",
      "0  Prof          B   56       49  Male  186960\n",
      "1  Prof          A   12        6  Male   93000\n",
      "2  Prof          A   23       20  Male  110515\n",
      "3  Prof          A   40       31  Male  131205\n",
      "4  Prof          B   20       18  Male  104800\n",
      "\n",
      "Past conversations:\n",
      "\n",
      "# Assist user\n",
      "\n",
      "User: for each gender and discipline plot average salaries\n",
      "Assistant:\n",
      "```python\n",
      "\u001b[0m\n",
      "\n",
      "\u001b[1m> Finished chain.\u001b[0m\n",
      "import pandas as pd\n",
      "import matplotlib.pyplot as plt\n",
      "import seaborn as sns\n",
      "\n",
      "# Load the dataset\n",
      "df = pd.read_csv('Salaries.csv')\n",
      "\n",
      "# Calculate the average salary for each gender and discipline\n",
      "avg_salaries = df.groupby(['discipline','sex'])['salary'].mean().reset_index()\n",
      "\n",
      "# Create a pivot table for better visualization\n",
      "pivot_table = avg_salaries.pivot(index='discipline', columns='sex', values='salary')\n",
      "\n",
      "# Plot the data\n",
      "plt.figure(figsize=(10, 6))\n",
      "sns.heatmap(pivot_table, annot=True, fmt='.0f', cmap='viridis')\n",
      "plt.title('Average Salaries by Gender and Discipline')\n",
      "plt.xlabel('Gender')\n",
      "plt.ylabel('Discipline')\n",
      "plt.show()\n",
      "```\n"
     ]
    }
   ],
   "source": [
    "print(conversation.run(input=\"for each gender and discipline plot average salaries\"))"
   ]
  },
  {
   "cell_type": "code",
   "execution_count": 69,
   "id": "0454568a-892a-4539-940b-f91400f5bda4",
   "metadata": {},
   "outputs": [
    {
     "name": "stderr",
     "output_type": "stream",
     "text": [
      "Setting `pad_token_id` to `eos_token_id`:10897 for open-end generation.\n"
     ]
    },
    {
     "name": "stdout",
     "output_type": "stream",
     "text": [
      "\n",
      "\n",
      "\u001b[1m> Entering new ConversationChain chain...\u001b[0m\n",
      "Prompt after formatting:\n",
      "\u001b[32;1m\u001b[1;3mYou're a highly skilled Python coder known for your mastery in pandas, seaborn, matplotlib, plotly.\n",
      "When it comes to visualizations, your expertise shines through, crafting aesthetically pleasing plots with captivating color schemes.\n",
      "\n",
      "# You should strictly follow the above rule\n",
      "\n",
      "Here's the scoop on the dataset \"Salaries.csv\" boasting records featuring diverse columns:\n",
      "   rank discipline  phd  service   sex  salary\n",
      "0  Prof          B   56       49  Male  186960\n",
      "1  Prof          A   12        6  Male   93000\n",
      "2  Prof          A   23       20  Male  110515\n",
      "3  Prof          A   40       31  Male  131205\n",
      "4  Prof          B   20       18  Male  104800\n",
      "\n",
      "Past conversations:\n",
      "Human: for each gender and discipline plot average salaries\n",
      "AI: import pandas as pd\n",
      "import matplotlib.pyplot as plt\n",
      "import seaborn as sns\n",
      "\n",
      "# Load the dataset\n",
      "df = pd.read_csv('Salaries.csv')\n",
      "\n",
      "# Calculate the average salary for each gender and discipline\n",
      "avg_salaries = df.groupby(['discipline','sex'])['salary'].mean().reset_index()\n",
      "\n",
      "# Create a pivot table for better visualization\n",
      "pivot_table = avg_salaries.pivot(index='discipline', columns='sex', values='salary')\n",
      "\n",
      "# Plot the data\n",
      "plt.figure(figsize=(10, 6))\n",
      "sns.heatmap(pivot_table, annot=True, fmt='.0f', cmap='viridis')\n",
      "plt.title('Average Salaries by Gender and Discipline')\n",
      "plt.xlabel('Gender')\n",
      "plt.ylabel('Discipline')\n",
      "plt.show()\n",
      "```\n",
      "# Assist user\n",
      "\n",
      "User: using plotly\n",
      "Assistant:\n",
      "```python\n",
      "\u001b[0m\n",
      "\n",
      "\u001b[1m> Finished chain.\u001b[0m\n",
      "import pandas as pd\n",
      "import plotly.express as px\n",
      "\n",
      "# Load the dataset\n",
      "df = pd.read_csv('Salaries.csv')\n",
      "\n",
      "# Calculate the average salary for each gender and discipline\n",
      "avg_salaries = df.groupby(['discipline','sex'])['salary'].mean().reset_index()\n",
      "\n",
      "# Create a pivot table for better visualization\n",
      "pivot_table = avg_salaries.pivot(index='discipline', columns='sex', values='salary')\n",
      "\n",
      "# Plot the data\n",
      "fig = px.imshow(pivot_table, color_continuous_scale='Viridis')\n",
      "fig.update_layout(title='Average Salaries by Gender and Discipline',\n",
      "                  xaxis_title='Gender',\n",
      "                  yaxis_title='Discipline')\n",
      "fig.show()\n",
      "```\n"
     ]
    }
   ],
   "source": [
    "print(conversation.run(input=\"using plotly\"))"
   ]
  },
  {
   "cell_type": "code",
   "execution_count": 71,
   "id": "9cdc96d1-b47e-4233-a35b-d88995d2ec98",
   "metadata": {},
   "outputs": [
    {
     "name": "stderr",
     "output_type": "stream",
     "text": [
      "Setting `pad_token_id` to `eos_token_id`:10897 for open-end generation.\n"
     ]
    },
    {
     "name": "stdout",
     "output_type": "stream",
     "text": [
      "\n",
      "\n",
      "\u001b[1m> Entering new ConversationChain chain...\u001b[0m\n",
      "Prompt after formatting:\n",
      "\u001b[32;1m\u001b[1;3mYou're a highly skilled Python coder known for your mastery in pandas, seaborn, matplotlib, plotly.\n",
      "When it comes to visualizations, your expertise shines through, crafting aesthetically pleasing plots with captivating color schemes.\n",
      "\n",
      "# You should strictly follow the above rule\n",
      "\n",
      "Here's the scoop on the dataset \"Salaries.csv\" boasting records featuring diverse columns:\n",
      "   rank discipline  phd  service   sex  salary\n",
      "0  Prof          B   56       49  Male  186960\n",
      "1  Prof          A   12        6  Male   93000\n",
      "2  Prof          A   23       20  Male  110515\n",
      "3  Prof          A   40       31  Male  131205\n",
      "4  Prof          B   20       18  Male  104800\n",
      "\n",
      "Past conversations:\n",
      "Human: for each gender and discipline plot average salaries\n",
      "AI: import pandas as pd\n",
      "import matplotlib.pyplot as plt\n",
      "import seaborn as sns\n",
      "\n",
      "# Load the dataset\n",
      "df = pd.read_csv('Salaries.csv')\n",
      "\n",
      "# Calculate the average salary for each gender and discipline\n",
      "avg_salaries = df.groupby(['discipline','sex'])['salary'].mean().reset_index()\n",
      "\n",
      "# Create a pivot table for better visualization\n",
      "pivot_table = avg_salaries.pivot(index='discipline', columns='sex', values='salary')\n",
      "\n",
      "# Plot the data\n",
      "plt.figure(figsize=(10, 6))\n",
      "sns.heatmap(pivot_table, annot=True, fmt='.0f', cmap='viridis')\n",
      "plt.title('Average Salaries by Gender and Discipline')\n",
      "plt.xlabel('Gender')\n",
      "plt.ylabel('Discipline')\n",
      "plt.show()\n",
      "```\n",
      "Human: using plotly\n",
      "AI: import pandas as pd\n",
      "import plotly.express as px\n",
      "\n",
      "# Load the dataset\n",
      "df = pd.read_csv('Salaries.csv')\n",
      "\n",
      "# Calculate the average salary for each gender and discipline\n",
      "avg_salaries = df.groupby(['discipline','sex'])['salary'].mean().reset_index()\n",
      "\n",
      "# Create a pivot table for better visualization\n",
      "pivot_table = avg_salaries.pivot(index='discipline', columns='sex', values='salary')\n",
      "\n",
      "# Plot the data\n",
      "fig = px.imshow(pivot_table, color_continuous_scale='Viridis')\n",
      "fig.update_layout(title='Average Salaries by Gender and Discipline',\n",
      "                  xaxis_title='Gender',\n",
      "                  yaxis_title='Discipline')\n",
      "fig.show()\n",
      "```\n",
      "# Assist user\n",
      "\n",
      "User: add a new column named new_salary by dividing salary by 1000\n",
      "Assistant:\n",
      "```python\n",
      "\u001b[0m\n",
      "\n",
      "\u001b[1m> Finished chain.\u001b[0m\n",
      "# Add a new column named 'new_salary' by dividing'salary' by 1000\n",
      "df['new_salary'] = df['salary'] / 1000\n",
      "```\n"
     ]
    }
   ],
   "source": [
    "print(conversation.run(input=\"add a new column named new_salary by dividing salary by 1000\"))"
   ]
  },
  {
   "cell_type": "code",
   "execution_count": 72,
   "id": "4c07912e-0f95-451f-8e62-a0c41d1ca938",
   "metadata": {},
   "outputs": [
    {
     "name": "stderr",
     "output_type": "stream",
     "text": [
      "Setting `pad_token_id` to `eos_token_id`:10897 for open-end generation.\n"
     ]
    },
    {
     "name": "stdout",
     "output_type": "stream",
     "text": [
      "\n",
      "\n",
      "\u001b[1m> Entering new ConversationChain chain...\u001b[0m\n",
      "Prompt after formatting:\n",
      "\u001b[32;1m\u001b[1;3mYou're a highly skilled Python coder known for your mastery in pandas, seaborn, matplotlib, plotly.\n",
      "When it comes to visualizations, your expertise shines through, crafting aesthetically pleasing plots with captivating color schemes.\n",
      "\n",
      "# You should strictly follow the above rule\n",
      "\n",
      "Here's the scoop on the dataset \"Salaries.csv\" boasting records featuring diverse columns:\n",
      "   rank discipline  phd  service   sex  salary\n",
      "0  Prof          B   56       49  Male  186960\n",
      "1  Prof          A   12        6  Male   93000\n",
      "2  Prof          A   23       20  Male  110515\n",
      "3  Prof          A   40       31  Male  131205\n",
      "4  Prof          B   20       18  Male  104800\n",
      "\n",
      "Past conversations:\n",
      "Human: for each gender and discipline plot average salaries\n",
      "AI: import pandas as pd\n",
      "import matplotlib.pyplot as plt\n",
      "import seaborn as sns\n",
      "\n",
      "# Load the dataset\n",
      "df = pd.read_csv('Salaries.csv')\n",
      "\n",
      "# Calculate the average salary for each gender and discipline\n",
      "avg_salaries = df.groupby(['discipline','sex'])['salary'].mean().reset_index()\n",
      "\n",
      "# Create a pivot table for better visualization\n",
      "pivot_table = avg_salaries.pivot(index='discipline', columns='sex', values='salary')\n",
      "\n",
      "# Plot the data\n",
      "plt.figure(figsize=(10, 6))\n",
      "sns.heatmap(pivot_table, annot=True, fmt='.0f', cmap='viridis')\n",
      "plt.title('Average Salaries by Gender and Discipline')\n",
      "plt.xlabel('Gender')\n",
      "plt.ylabel('Discipline')\n",
      "plt.show()\n",
      "```\n",
      "Human: using plotly\n",
      "AI: import pandas as pd\n",
      "import plotly.express as px\n",
      "\n",
      "# Load the dataset\n",
      "df = pd.read_csv('Salaries.csv')\n",
      "\n",
      "# Calculate the average salary for each gender and discipline\n",
      "avg_salaries = df.groupby(['discipline','sex'])['salary'].mean().reset_index()\n",
      "\n",
      "# Create a pivot table for better visualization\n",
      "pivot_table = avg_salaries.pivot(index='discipline', columns='sex', values='salary')\n",
      "\n",
      "# Plot the data\n",
      "fig = px.imshow(pivot_table, color_continuous_scale='Viridis')\n",
      "fig.update_layout(title='Average Salaries by Gender and Discipline',\n",
      "                  xaxis_title='Gender',\n",
      "                  yaxis_title='Discipline')\n",
      "fig.show()\n",
      "```\n",
      "Human: add a new column named new_salary by dividing salary by 1000\n",
      "AI: # Add a new column named 'new_salary' by dividing'salary' by 1000\n",
      "df['new_salary'] = df['salary'] / 1000\n",
      "```\n",
      "# Assist user\n",
      "\n",
      "User: find avg of the new column\n",
      "Assistant:\n",
      "```python\n",
      "\u001b[0m\n",
      "\n",
      "\u001b[1m> Finished chain.\u001b[0m\n",
      "# Calculate the average of the new column\n",
      "avg_new_salary = df['new_salary'].mean()\n",
      "print(f\"The average of the new column 'new_salary' is: {avg_new_salary}\")\n",
      "```\n"
     ]
    }
   ],
   "source": [
    "print(conversation.run(input=\"find avg of the new column\"))"
   ]
  },
  {
   "cell_type": "code",
   "execution_count": 74,
   "id": "a59040e0-d596-4788-964d-aed1238bdecd",
   "metadata": {},
   "outputs": [
    {
     "name": "stderr",
     "output_type": "stream",
     "text": [
      "Setting `pad_token_id` to `eos_token_id`:10897 for open-end generation.\n"
     ]
    },
    {
     "name": "stdout",
     "output_type": "stream",
     "text": [
      "\n",
      "\n",
      "\u001b[1m> Entering new ConversationChain chain...\u001b[0m\n",
      "Prompt after formatting:\n",
      "\u001b[32;1m\u001b[1;3mYou're a highly skilled Python coder known for your mastery in pandas, seaborn, matplotlib, plotly.\n",
      "When it comes to visualizations, your expertise shines through, crafting aesthetically pleasing plots with captivating color schemes.\n",
      "\n",
      "# You should strictly follow the above rule\n",
      "\n",
      "Here's the scoop on the dataset \"Salaries.csv\" boasting records featuring diverse columns:\n",
      "   rank discipline  phd  service   sex  salary\n",
      "0  Prof          B   56       49  Male  186960\n",
      "1  Prof          A   12        6  Male   93000\n",
      "2  Prof          A   23       20  Male  110515\n",
      "3  Prof          A   40       31  Male  131205\n",
      "4  Prof          B   20       18  Male  104800\n",
      "\n",
      "Past conversations:\n",
      "Human: for each gender and discipline plot average salaries\n",
      "AI: import pandas as pd\n",
      "import matplotlib.pyplot as plt\n",
      "import seaborn as sns\n",
      "\n",
      "# Load the dataset\n",
      "df = pd.read_csv('Salaries.csv')\n",
      "\n",
      "# Calculate the average salary for each gender and discipline\n",
      "avg_salaries = df.groupby(['discipline','sex'])['salary'].mean().reset_index()\n",
      "\n",
      "# Create a pivot table for better visualization\n",
      "pivot_table = avg_salaries.pivot(index='discipline', columns='sex', values='salary')\n",
      "\n",
      "# Plot the data\n",
      "plt.figure(figsize=(10, 6))\n",
      "sns.heatmap(pivot_table, annot=True, fmt='.0f', cmap='viridis')\n",
      "plt.title('Average Salaries by Gender and Discipline')\n",
      "plt.xlabel('Gender')\n",
      "plt.ylabel('Discipline')\n",
      "plt.show()\n",
      "```\n",
      "Human: using plotly\n",
      "AI: import pandas as pd\n",
      "import plotly.express as px\n",
      "\n",
      "# Load the dataset\n",
      "df = pd.read_csv('Salaries.csv')\n",
      "\n",
      "# Calculate the average salary for each gender and discipline\n",
      "avg_salaries = df.groupby(['discipline','sex'])['salary'].mean().reset_index()\n",
      "\n",
      "# Create a pivot table for better visualization\n",
      "pivot_table = avg_salaries.pivot(index='discipline', columns='sex', values='salary')\n",
      "\n",
      "# Plot the data\n",
      "fig = px.imshow(pivot_table, color_continuous_scale='Viridis')\n",
      "fig.update_layout(title='Average Salaries by Gender and Discipline',\n",
      "                  xaxis_title='Gender',\n",
      "                  yaxis_title='Discipline')\n",
      "fig.show()\n",
      "```\n",
      "Human: add a new column named new_salary by dividing salary by 1000\n",
      "AI: # Add a new column named 'new_salary' by dividing'salary' by 1000\n",
      "df['new_salary'] = df['salary'] / 1000\n",
      "```\n",
      "Human: find avg of the new column\n",
      "AI: # Calculate the average of the new column\n",
      "avg_new_salary = df['new_salary'].mean()\n",
      "print(f\"The average of the new column 'new_salary' is: {avg_new_salary}\")\n",
      "```\n",
      "# Assist user\n",
      "\n",
      "User: show me first 5 rows\n",
      "Assistant:\n",
      "```python\n",
      "\u001b[0m\n",
      "\n",
      "\u001b[1m> Finished chain.\u001b[0m\n",
      "# Show first 5 rows of the dataframe\n",
      "df.head(5)\n",
      "```\n"
     ]
    }
   ],
   "source": [
    "print(conversation.run(input=\"show me first 5 rows\"))"
   ]
  },
  {
   "cell_type": "code",
   "execution_count": null,
   "id": "f61628d4-067e-40d0-abf6-41e3d7382d35",
   "metadata": {},
   "outputs": [],
   "source": []
  }
 ],
 "metadata": {
  "kernelspec": {
   "display_name": "mayur2",
   "language": "python",
   "name": "mayur2"
  },
  "language_info": {
   "codemirror_mode": {
    "name": "ipython",
    "version": 3
   },
   "file_extension": ".py",
   "mimetype": "text/x-python",
   "name": "python",
   "nbconvert_exporter": "python",
   "pygments_lexer": "ipython3",
   "version": "3.10.13"
  }
 },
 "nbformat": 4,
 "nbformat_minor": 5
}
